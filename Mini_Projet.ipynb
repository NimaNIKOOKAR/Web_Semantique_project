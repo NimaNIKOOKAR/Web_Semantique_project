{
 "cells": [
  {
   "cell_type": "markdown",
   "id": "3b8f4c1f",
   "metadata": {},
   "source": [
    "# Projet : Extraction et Recommandation de films et séries avec rdflib et SPARQL\n",
    "\n",
    "## Objectif\n",
    "L’objectif de ce mini-projet est l’extraction des données de la base de données DBPedia en utilisant le langage de requêtes SPARQL afin d'alimenter la base de données de séries que vous avez créé au premier TP, l’analyse de ces données et la recommandation de séries et de films."
   ]
  },
  {
   "cell_type": "markdown",
   "id": "8af27ca9",
   "metadata": {},
   "source": [
    "# Description\n",
    "\n",
    "Vous allez créer un système de recommandation de séries/films basé sur des données RDF qui stockent des informations sur les films, les utilisateurs et leurs préférences cinématographiques.\n",
    "\n",
    "Les étapes du projet sont comme suit :"
   ]
  },
  {
   "cell_type": "markdown",
   "id": "a83e1264",
   "metadata": {},
   "source": [
    "## 1.  Extraction des données"
   ]
  },
  {
   "cell_type": "markdown",
   "id": "46de8783",
   "metadata": {},
   "source": [
    "a)  Vous utiliserez Rdflib pour accéder aux données et vous effectuerez des requêtes SPARQL pour les extraire. Vous êtes libres dans le choix et la taille des données que vous allez extraire. Le jeu de données doit néanmoins être représentatif pour pouvoir fournir des recommandations précises. \n",
    "    \n",
    "   - Les données à extraire : \n",
    "       - Films : Chaque film a un titre, un réalisateur, une année de sortie, un genre (e.g. : action, comédie, science-fiction), un résumé, une liste d'acteurs principaux, une durée, une évaluation du film, etc.\n",
    "       - Réalisateur : Chaque réalisateur a un nom, une biographie et une liste de films qu'il a réalisés.\n",
    "       - Acteurs : Chaque acteur a un nom, une biographie et une liste de films dans lesquels il a joué.\n",
    "       - Genres :  Chaque genre a un nom et une description.\n",
    "       - Utilisateurs : chaque utilisateur a un identifiant et des préférences cinématographiques (acteurs préférés, genres préférés, etc).\n",
    "       - Évaluations : Elle est décrite par l'identifiant de l'utilisateur qui a donné l'évaluation, identifiant du film évalué la note attribuée au film, Commentaire ou avis sur le film.\n",
    "\n",
    "   - Liens entre les entités : \n",
    "\n",
    "        - Les films sont associés à leurs acteurs, réalisateurs et genres.\n",
    "        - Les utilisateurs sont associés aux films qu'ils ont évalués.\n",
    "        - Les utilisateurs peuvent être liés entre eux en fonction de leurs préférences cinématographiques similaires.\n",
    "\n",
    "   b)  Transformer les données en triplets RDF :  Vous allez transformer ces résultats en triplets RDF avant de les ajouter à votre graphe RDF existant. \n",
    "  \n",
    "  c) Ajouter les données au graphe existant : Utilisez la méthode g.add() de votre graphe RDF, que vous avez créé au premier TP, pour ajouter les triplets RDF représentant les données DBpedia que vous avez transformées. "
   ]
  },
  {
   "cell_type": "markdown",
   "id": "f22c45ed",
   "metadata": {},
   "source": [
    "\n"
   ]
  },
  {
   "cell_type": "markdown",
   "id": "0cdd6862",
   "metadata": {},
   "source": [
    "## 2. Prétraitement des données   "
   ]
  },
  {
   "cell_type": "markdown",
   "id": "85e511a8",
   "metadata": {},
   "source": [
    "Nettoyez et traitez les données extraites pour supprimer les doublons, gérer les valeurs manquantes et normaliser."
   ]
  },
  {
   "cell_type": "code",
   "execution_count": null,
   "id": "7c849f60",
   "metadata": {},
   "outputs": [],
   "source": []
  },
  {
   "cell_type": "markdown",
   "id": "46be1e6e",
   "metadata": {},
   "source": [
    "## 3. Analyse exploratoire des données "
   ]
  },
  {
   "cell_type": "markdown",
   "id": "22c1c996",
   "metadata": {},
   "source": [
    "- Créer des graphiques permettant de visualiser la distribution des films et séries dans votre base de données.\n",
    "- Créer un graphique pour montrer les films et les séries les mieux notés\n",
    "- Créer un nuage de points pour représenter la relation entre les caractéristiques"
   ]
  },
  {
   "cell_type": "code",
   "execution_count": null,
   "id": "abeb0297",
   "metadata": {},
   "outputs": [],
   "source": []
  },
  {
   "cell_type": "markdown",
   "id": "f2fbe967",
   "metadata": {},
   "source": [
    "## 4. Système de Recommandation "
   ]
  },
  {
   "cell_type": "markdown",
   "id": "6623413d",
   "metadata": {},
   "source": [
    "a) Utiliser SPARQL pour interroger le graphe RDF afin de créer un système de recommandation de films et/ou séries. Vous pouvez envisager différentes approches de recommandation, telles que la recommandation collaborative (en fonction des évaluations d'utilisateurs similaires) ou la recommandation basée sur le contenu (en fonction des genres, des acteurs, etc.) ou la recommandation basée sur les connaissances\n",
    "\n",
    "b) Utiliser une IA (ChatGPT ou tout autre) pour répondre à cette question"
   ]
  },
  {
   "cell_type": "code",
   "execution_count": null,
   "id": "149b554b",
   "metadata": {},
   "outputs": [],
   "source": []
  },
  {
   "cell_type": "markdown",
   "id": "e6be6488",
   "metadata": {},
   "source": [
    "## 5. Calcul des Recommandations "
   ]
  },
  {
   "cell_type": "markdown",
   "id": "0bb6cb54",
   "metadata": {},
   "source": [
    "a) Utiliser SPARQL pour générer des requêtes de recommandation en fonction des préférences de l'utilisateur. Vous pouvez également utiliser des algorithmes d'apprentissage automatique pour améliorer les recommandations.\n",
    "\n",
    "b) Utiliser une IA pour répondre à cette question"
   ]
  },
  {
   "cell_type": "code",
   "execution_count": null,
   "id": "e11cd2fb",
   "metadata": {},
   "outputs": [],
   "source": []
  },
  {
   "cell_type": "markdown",
   "id": "baeb1585",
   "metadata": {},
   "source": [
    "## 6. Évaluation  "
   ]
  },
  {
   "cell_type": "markdown",
   "id": "493d7060",
   "metadata": {},
   "source": [
    "a) Évaluez la qualité de vos recommandations en utilisant des mesures telles que  MAP@k (Mean Average Precision at k) ou NDCG@k (Normalized Discounted Cumulative Gain at k)\n",
    "\n",
    "b) Comparer les recommandations que vous avez obtenues par rapport à celles générées par l'IA que vous aurez utilisée"
   ]
  },
  {
   "cell_type": "code",
   "execution_count": null,
   "id": "3b825d4f",
   "metadata": {},
   "outputs": [],
   "source": []
  },
  {
   "cell_type": "markdown",
   "id": "0d8b3fce",
   "metadata": {},
   "source": [
    "## 7. Rapport "
   ]
  },
  {
   "cell_type": "markdown",
   "id": "af7b0a0c",
   "metadata": {},
   "source": [
    "Vous allez rédiger un rapport de 5 pages max décrivant la modélisation RDF, les requêtes SPARQL, l'algorithme de recommandation et les résultats de l'évaluation. Vous spécifierez votre utilisation de l'IA dans le cadre de ce projet et ce que vous en pensez"
   ]
  },
  {
   "cell_type": "code",
   "execution_count": null,
   "id": "fcb8e27f",
   "metadata": {},
   "outputs": [],
   "source": []
  }
 ],
 "metadata": {
  "kernelspec": {
   "display_name": "Python 3 (ipykernel)",
   "language": "python",
   "name": "python3"
  },
  "language_info": {
   "codemirror_mode": {
    "name": "ipython",
    "version": 3
   },
   "file_extension": ".py",
   "mimetype": "text/x-python",
   "name": "python",
   "nbconvert_exporter": "python",
   "pygments_lexer": "ipython3",
   "version": "3.10.9"
  }
 },
 "nbformat": 4,
 "nbformat_minor": 5
}
